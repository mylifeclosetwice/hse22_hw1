{
  "nbformat": 4,
  "nbformat_minor": 0,
  "metadata": {
    "colab": {
      "provenance": [],
      "collapsed_sections": []
    },
    "kernelspec": {
      "name": "python3",
      "display_name": "Python 3"
    },
    "language_info": {
      "name": "python"
    }
  },
  "cells": [
    {
      "cell_type": "markdown",
      "source": [
        "# Домашнее задание 1\n",
        "## Майнер Биоинформатика (2-й год)\n",
        "### Кочеткова Ирина (группа 4)"
      ],
      "metadata": {
        "id": "RcBLglqIjSk0"
      }
    },
    {
      "cell_type": "markdown",
      "source": [
        "## Работа на сервере\n",
        "Список команд для сервера находится в файле README, файлы с отчетами и инфографикой выложены в репозитории.\n",
        "В бонусной части задания брались 1000000 и 500000 чтений соответственно."
      ],
      "metadata": {
        "id": "Erwhlj2EqiNi"
      }
    },
    {
      "cell_type": "markdown",
      "source": [
        "time platanus gap_close -o Poil -c Poil_small_scaffold.fa -IP1 small_sub1.fastq.trimmed small_sub2.fastq.trimmed -OP2 small_matep1.fastq.int_trimmed small_matep2.fastq.int_trimmed 2> gapclose.log"
      ],
      "metadata": {
        "id": "qChalUa2v0uO"
      }
    },
    {
      "cell_type": "markdown",
      "source": [
        "## Анализ данных"
      ],
      "metadata": {
        "id": "IMY0xxUJq-95"
      }
    },
    {
      "cell_type": "code",
      "source": [
        "import re\n",
        "\n",
        "def info(file, text, output = True):\n",
        "    lens = []\n",
        "    sum_len = 0\n",
        "    num = 0\n",
        "    max_len = 0\n",
        "    length = 0\n",
        "    score = 0\n",
        "    max_sequence = ''\n",
        "    sequence = ''\n",
        "    for line in file:\n",
        "        if (line[0] == '>'):\n",
        "            if num != 0:\n",
        "                lens.append(length)\n",
        "            num += 1\n",
        "            if length >= max_len:\n",
        "                max_len = length\n",
        "                max_sequence = sequence\n",
        "            sequence = ''\n",
        "            length = 0\n",
        "        else:\n",
        "            sequence += line.strip()\n",
        "            length += len(line.strip())\n",
        "            sum_len += len(line.strip())\n",
        "     \n",
        "    lens.sort(reverse = True) \n",
        "    for i in lens:\n",
        "        score += i\n",
        "        if score >= sum_len / 2:\n",
        "            if output == True:\n",
        "                print(f'Анализ {text}\\n\\\n",
        "Количество: {num},\\n\\\n",
        "Длина: {sum_len},\\n\\\n",
        "Самый длинный: {max_len},\\n\\\n",
        "N50: {i}\\n')\n",
        "            break\n",
        "    return max_sequence"
      ],
      "metadata": {
        "id": "gp0U2qNpFKp9"
      },
      "execution_count": 7,
      "outputs": []
    },
    {
      "cell_type": "code",
      "source": [
        "max_cont = info(open('Poil_contig.fa', 'r'), 'Контигов')"
      ],
      "metadata": {
        "colab": {
          "base_uri": "https://localhost:8080/"
        },
        "id": "5GsqDDnaseen",
        "outputId": "d1979a63-28a3-49da-9de4-e11f9fdd9935"
      },
      "execution_count": 8,
      "outputs": [
        {
          "output_type": "stream",
          "name": "stdout",
          "text": [
            "Анализ Контигов\n",
            "Количество: 619,\n",
            "Длина: 3924910,\n",
            "Самый длинный: 179307,\n",
            "N50: 52802\n",
            "\n"
          ]
        }
      ]
    },
    {
      "cell_type": "code",
      "source": [
        "small_cont = info(open('Poil_small_contig.fa', 'r'), 'Контигов (маленькая последовательность)')"
      ],
      "metadata": {
        "colab": {
          "base_uri": "https://localhost:8080/"
        },
        "id": "Xx4IUFM6zMoZ",
        "outputId": "12610e2a-5123-4aba-f916-7c0328b5a11c"
      },
      "execution_count": 13,
      "outputs": [
        {
          "output_type": "stream",
          "name": "stdout",
          "text": [
            "Анализ Контигов (маленькая последовательность)\n",
            "Количество: 269,\n",
            "Длина: 1030079,\n",
            "Самый длинный: 187087,\n",
            "N50: 64093\n",
            "\n"
          ]
        }
      ]
    },
    {
      "cell_type": "markdown",
      "source": [
        "### Вывод для контигов:\n",
        "\n",
        "\n",
        "*   С уменьшением чтений количество контигов меньше (619 vs. 269)\n",
        "*   С уменьшением чтений N50 больше (52802 vs. 64093)\n",
        "*   С уменьшением чтений общая длина уменьшается  (3924910 vs. 1030079)\n",
        "*   Длина самого длинного не зависит от количества чтений\n",
        "\n"
      ],
      "metadata": {
        "id": "fvFYoQMhzzZM"
      }
    },
    {
      "cell_type": "code",
      "source": [
        "max_scaf = info(open('Poil_scaffold.fa', 'r'), 'Скаффолдов')"
      ],
      "metadata": {
        "colab": {
          "base_uri": "https://localhost:8080/"
        },
        "id": "NztnTWN-tuPH",
        "outputId": "1fc8e22d-b96d-45d2-a05f-178198764e34"
      },
      "execution_count": 9,
      "outputs": [
        {
          "output_type": "stream",
          "name": "stdout",
          "text": [
            "Анализ Скаффолдов\n",
            "Количество: 70,\n",
            "Длина: 3873294,\n",
            "Самый длинный: 3834030,\n",
            "N50: 3834030\n",
            "\n"
          ]
        }
      ]
    },
    {
      "cell_type": "code",
      "source": [
        "small_scaf = info(open('Poil_small_scaffold.fa', 'r'), 'Скаффолдов (маленькая последовательность)')"
      ],
      "metadata": {
        "colab": {
          "base_uri": "https://localhost:8080/"
        },
        "id": "s78Wjwzl1e78",
        "outputId": "82e73106-c403-4f59-f501-2ab5d5a218e3"
      },
      "execution_count": 16,
      "outputs": [
        {
          "output_type": "stream",
          "name": "stdout",
          "text": [
            "Анализ Скаффолдов (маленькая последовательность)\n",
            "Количество: 152,\n",
            "Длина: 3854239,\n",
            "Самый длинный: 2962909,\n",
            "N50: 2962909\n",
            "\n"
          ]
        }
      ]
    },
    {
      "cell_type": "markdown",
      "source": [
        "### Вывод для скаффолдов:\n",
        "\n",
        "\n",
        "*   С уменьшением чтений количество скаффолдов больше (70 vs. 152)\n",
        "*   С уменьшением чтений N50 меньше (3834030 vs. 2962909)\n",
        "*   С уменьшением чтений общая длина уменьшается  (3873294 vs. 3854239)\n",
        "*   Длина самого длинного не зависит от количества чтений"
      ],
      "metadata": {
        "id": "j4sT5-rN14I6"
      }
    },
    {
      "cell_type": "code",
      "source": [
        "print(f'Длина пробелов: {max_scaf.count(\"N\")}')\n",
        "max_scaf = re.sub(r'N{2,}', 'N', max_scaf)\n",
        "print(f'Кол-во пробелов: {max_scaf.count(\"N\")}')"
      ],
      "metadata": {
        "colab": {
          "base_uri": "https://localhost:8080/"
        },
        "id": "xj__pM2huE7w",
        "outputId": "cfcca500-56a0-4b69-ce76-f0c1a1193417"
      },
      "execution_count": 10,
      "outputs": [
        {
          "output_type": "stream",
          "name": "stdout",
          "text": [
            "Длина пробелов: 7554\n",
            "Кол-во пробелов: 65\n"
          ]
        }
      ]
    },
    {
      "cell_type": "code",
      "source": [
        "print(f'Длина пробелов: {small_scaf.count(\"N\")}')\n",
        "small_scaf = re.sub(r'N{2,}', 'N', small_scaf)\n",
        "print(f'Кол-во пробелов: {small_scaf.count(\"N\")}')"
      ],
      "metadata": {
        "colab": {
          "base_uri": "https://localhost:8080/"
        },
        "id": "2JqOZ-132t-_",
        "outputId": "4987e146-8dc0-4a6e-a089-c061bbe8cc05"
      },
      "execution_count": 17,
      "outputs": [
        {
          "output_type": "stream",
          "name": "stdout",
          "text": [
            "Длина пробелов: 11182\n",
            "Кол-во пробелов: 99\n"
          ]
        }
      ]
    },
    {
      "cell_type": "markdown",
      "source": [
        "\n",
        "\n",
        "*   Количество пробелов и их общая длина увеличились\n",
        "\n"
      ],
      "metadata": {
        "id": "8M4vJSnB26ZO"
      }
    },
    {
      "cell_type": "code",
      "source": [
        "max_scaf = info(open('Poil_gapClosed.fa', 'r'), 'Скаффолдов', False)\n",
        "print(f'Длина пробелов для обрезанных чтений: {max_scaf.count(\"N\")}')\n",
        "max_scaf = re.sub(r'N{2,}', 'N', max_scaf)\n",
        "print(f'Кол-во пробелов для обрезанных чтений: {max_scaf.count(\"N\")}')"
      ],
      "metadata": {
        "colab": {
          "base_uri": "https://localhost:8080/"
        },
        "id": "RnJUtOniuYLn",
        "outputId": "8aada905-f62a-4a5f-9a56-01eb334e430b"
      },
      "execution_count": 12,
      "outputs": [
        {
          "output_type": "stream",
          "name": "stdout",
          "text": [
            "Длина пробелов для обрезанных чтений: 2969\n",
            "Кол-во пробелов для обрезанных чтений: 9\n"
          ]
        }
      ]
    },
    {
      "cell_type": "code",
      "source": [
        "small_scaf = info(open('Poil_small_gapClosed.fa', 'r'), 'Скаффолдов (маленькая последовательность)', False)\n",
        "print(f'Длина пробелов для обрезанных чтений: {small_scaf.count(\"N\")}')\n",
        "small_scaf = re.sub(r'N{2,}', 'N', small_scaf)\n",
        "print(f'Кол-во пробелов для обрезанных чтений: {small_scaf.count(\"N\")}')"
      ],
      "metadata": {
        "colab": {
          "base_uri": "https://localhost:8080/"
        },
        "id": "xG7h-CAT3W4v",
        "outputId": "65716c6e-e9f3-4fad-f2c4-526566ba1bb4"
      },
      "execution_count": 18,
      "outputs": [
        {
          "output_type": "stream",
          "name": "stdout",
          "text": [
            "Длина пробелов для обрезанных чтений: 5620\n",
            "Кол-во пробелов для обрезанных чтений: 28\n"
          ]
        }
      ]
    },
    {
      "cell_type": "markdown",
      "source": [
        "*   Количество пробелов и их общая длина увеличились"
      ],
      "metadata": {
        "id": "RBuABeJw3rwu"
      }
    }
  ]
}